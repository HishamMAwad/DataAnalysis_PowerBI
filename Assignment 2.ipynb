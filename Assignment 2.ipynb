{
 "cells": [
  {
   "cell_type": "markdown",
   "metadata": {},
   "source": [
    "# Assignment 2\n",
    "Let's test your knowledge!"
   ]
  },
  {
   "cell_type": "markdown",
   "metadata": {},
   "source": [
    "_____\n",
    "**Use <code>for</code>, .split(), and <code>if</code> to create a Statement that will print out words that start with 's':**"
   ]
  },
  {
   "cell_type": "code",
   "execution_count": null,
   "metadata": {},
   "outputs": [],
   "source": [
    "st = 'Print only the words that start with s in this sentence'"
   ]
  },
  {
   "cell_type": "code",
   "execution_count": 1,
   "metadata": {},
   "outputs": [
    {
     "name": "stdout",
     "output_type": "stream",
     "text": [
      "['START', 'S', 'SENTENCE']\n"
     ]
    }
   ],
   "source": [
    "#Code here\n",
    "st = 'Print only the words that start with s in this sentence'\n",
    "st = st.upper()\n",
    "new_st = st.split()\n",
    "\n",
    "cheked_char = 's'\n",
    "cheked_char = cheked_char.upper()\n",
    "\n",
    "final_stat = []\n",
    "\n",
    "n = 0\n",
    "\n",
    "for i in new_st:\n",
    "    if cheked_char in i[0]:\n",
    "        final_stat.append(new_st[n])   \n",
    "    n += 1\n",
    "\n",
    "print(final_stat)"
   ]
  },
  {
   "cell_type": "markdown",
   "metadata": {},
   "source": [
    "______\n",
    "**Use range() to print all the even numbers from 0 to 10.**"
   ]
  },
  {
   "cell_type": "code",
   "execution_count": null,
   "metadata": {},
   "outputs": [],
   "source": [
    "even_num = []\n",
    "\n",
    "for i in range(0,11):\n",
    "    if (i%2) == 0:\n",
    "        even_num.append(i)\n",
    "\n",
    "print(even_num)"
   ]
  },
  {
   "cell_type": "markdown",
   "metadata": {},
   "source": [
    "___\n",
    "**Use a List Comprehension to create a list of all numbers between 1 and 50 that are divisible by 3.**"
   ]
  },
  {
   "cell_type": "code",
   "execution_count": null,
   "metadata": {},
   "outputs": [],
   "source": [
    "#Code Here\n",
    "\n",
    "divided_by_three_nums = []\n",
    "\n",
    "for i in range(1,51):\n",
    "    if (i%3) == 0:\n",
    "        divided_by_three_nums.append(i)\n",
    "\n",
    "print(divided_by_three_nums)"
   ]
  },
  {
   "cell_type": "markdown",
   "metadata": {},
   "source": [
    "_____\n",
    "**Go through the string below and if the length of a word is even print \"even!\"**"
   ]
  },
  {
   "cell_type": "code",
   "execution_count": null,
   "metadata": {},
   "outputs": [],
   "source": [
    "st = 'Print every word in this sentence that has an even number of letters'"
   ]
  },
  {
   "cell_type": "code",
   "execution_count": 2,
   "metadata": {},
   "outputs": [
    {
     "name": "stdout",
     "output_type": "stream",
     "text": [
      "['word', 'in', 'this', 'sentence', 'that', 'an', 'even', 'number', 'of']\n"
     ]
    }
   ],
   "source": [
    "#Code in this cell\n",
    "\n",
    "st = 'Print every word in this sentence that has an even number of letters'\n",
    "new_st = st.split()\n",
    "\n",
    "even_words = []\n",
    "\n",
    "n = 0\n",
    "\n",
    "for i in new_st:\n",
    "  if (len(new_st[n])) % 2 == 0:\n",
    "      even_words.append(new_st[n])\n",
    "  n+=1\n",
    "\n",
    "print(even_words)\n"
   ]
  },
  {
   "cell_type": "markdown",
   "metadata": {},
   "source": [
    "____\n",
    "**Write a program that prints the integers from 1 to 100. But for multiples of three print \"Fizz\" instead of the number, and for the multiples of five print \"Buzz\". For numbers which are multiples of both three and five print \"FizzBuzz\".**"
   ]
  },
  {
   "cell_type": "code",
   "execution_count": 1,
   "metadata": {},
   "outputs": [
    {
     "name": "stdout",
     "output_type": "stream",
     "text": [
      "[1, 2, 'Fizz', 4, 'Buzz', 'Fizz', 7, 8, 'Fizz', 'Buzz', 11, 'Fizz', 13, 14, 'FizzBuzz', 16, 17, 'Fizz', 19, 'Buzz', 'Fizz', 22, 23, 'Fizz', 'Buzz', 26, 'Fizz', 28, 29, 'FizzBuzz', 31, 32, 'Fizz', 34, 'Buzz', 'Fizz', 37, 38, 'Fizz', 'Buzz', 41, 'Fizz', 43, 44, 'FizzBuzz', 46, 47, 'Fizz', 49, 'Buzz', 'Fizz', 52, 53, 'Fizz', 'Buzz', 56, 'Fizz', 58, 59, 'FizzBuzz', 61, 62, 'Fizz', 64, 'Buzz', 'Fizz', 67, 68, 'Fizz', 'Buzz', 71, 'Fizz', 73, 74, 'FizzBuzz', 76, 77, 'Fizz', 79, 'Buzz', 'Fizz', 82, 83, 'Fizz', 'Buzz', 86, 'Fizz', 88, 89, 'FizzBuzz', 91, 92, 'Fizz', 94, 'Buzz', 'Fizz', 97, 98, 'Fizz', 'Buzz']\n"
     ]
    }
   ],
   "source": [
    "#Code in this cell\n",
    "\n",
    "x = []\n",
    "\n",
    "for i in range(1,101):\n",
    "    x.append(i)\n",
    "    if (i % 3 == 0) and (i % 5 != 0): \n",
    "        x.insert(x.index(i), 'Fizz')\n",
    "        x.remove(i)\n",
    "    elif (i % 5 == 0) and (i % 3 != 0):\n",
    "        x.insert(x.index(i), 'Buzz')\n",
    "        x.remove(i)\n",
    "    elif (i % 3 == 0) and (i % 5 == 0):\n",
    "        x.insert(x.index(i), 'FizzBuzz')\n",
    "        x.remove(i)\n",
    "        \n",
    "print(x)  "
   ]
  },
  {
   "cell_type": "markdown",
   "metadata": {},
   "source": [
    "____\n",
    "**Use List Comprehension to create a list of the first letters of every word in the string below:**"
   ]
  },
  {
   "cell_type": "code",
   "execution_count": null,
   "metadata": {},
   "outputs": [],
   "source": [
    "st = 'Create a list of the first letters of every word in this string'"
   ]
  },
  {
   "cell_type": "code",
   "execution_count": 2,
   "metadata": {},
   "outputs": [
    {
     "name": "stdout",
     "output_type": "stream",
     "text": [
      "['C', 'a', 'l', 'o', 't', 'f', 'l', 'o', 'e', 'w', 'i', 't', 's']\n"
     ]
    }
   ],
   "source": [
    "#Code in this cell\n",
    "\n",
    "st = 'Create a list of the first letters of every word in this string'\n",
    "\n",
    "lis = st.split()\n",
    "final_lis = []\n",
    "\n",
    "for i in lis:\n",
    "    final_lis.append(lis[lis.index(i)][0])\n",
    "    \n",
    "print(final_lis)"
   ]
  },
  {
   "cell_type": "markdown",
   "metadata": {
    "jp-MarkdownHeadingCollapsed": true,
    "tags": []
   },
   "source": [
    "### Great Job!"
   ]
  }
 ],
 "metadata": {
  "kernelspec": {
   "display_name": "Python 3 (ipykernel)",
   "language": "python",
   "name": "python3"
  },
  "language_info": {
   "codemirror_mode": {
    "name": "ipython",
    "version": 3
   },
   "file_extension": ".py",
   "mimetype": "text/x-python",
   "name": "python",
   "nbconvert_exporter": "python",
   "pygments_lexer": "ipython3",
   "version": "3.11.5"
  }
 },
 "nbformat": 4,
 "nbformat_minor": 4
}
