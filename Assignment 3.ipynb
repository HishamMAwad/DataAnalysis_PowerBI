{
 "cells": [
  {
   "cell_type": "markdown",
   "metadata": {},
   "source": [
    "# Assignment 3"
   ]
  },
  {
   "cell_type": "markdown",
   "metadata": {},
   "source": [
    "### Write a function to count the number 4 in a given list."
   ]
  },
  {
   "cell_type": "code",
   "execution_count": 1,
   "metadata": {
    "tags": []
   },
   "outputs": [
    {
     "name": "stdout",
     "output_type": "stream",
     "text": [
      "3\n"
     ]
    }
   ],
   "source": [
    "def num_4_counter(x):\n",
    "    n = 0\n",
    "    for i in x:\n",
    "        if i == 4:\n",
    "         n += 1\n",
    "    \n",
    "    return n\n",
    "\n",
    "lis = [1,2,3,4,5,4,10,7,4] #replace with your own list\n",
    "counter = num_4_counter(lis)\n",
    "\n",
    "print(counter)"
   ]
  },
  {
   "cell_type": "markdown",
   "metadata": {
    "tags": []
   },
   "source": [
    "### write a  function to check whether a number is divisible by another number."
   ]
  },
  {
   "cell_type": "code",
   "execution_count": null,
   "metadata": {
    "tags": []
   },
   "outputs": [],
   "source": [
    "def check_divisible(x, y):\n",
    "    if x % y == 0:\n",
    "        print(x,\"is divisible by\", y, \"and result is: \", (x / y))\n",
    "    elif x % y != 0:\n",
    "        print(x,\"is not divisible by\", y, \"and result is: \", (x / y))\n",
    "    \n",
    "\n",
    "\n",
    "first_number = int(input('Enter your desired number to check: '))\n",
    "second_number = int(input('Enter the second number to check with: '))\n",
    "\n",
    "check_divisible(first_number,second_number)"
   ]
  },
  {
   "cell_type": "markdown",
   "metadata": {},
   "source": [
    "### write a function to find the maximum and minimum numbers from a sequence of numbers."
   ]
  },
  {
   "cell_type": "code",
   "execution_count": null,
   "metadata": {
    "collapsed": true,
    "jupyter": {
     "outputs_hidden": true
    }
   },
   "outputs": [],
   "source": [
    "def find_min_max (x):\n",
    "    i = min(x)\n",
    "    y = max(x)\n",
    "    \n",
    "    return i,y\n",
    "\n",
    "squence_of_numbers = [1,2,3,4,5,10] #write down your own sequence\n",
    "\n",
    "\n",
    "min_num, max_num = find_min_max(squence_of_numbers)\n",
    "\n",
    "print(\"Minimum number of your sequence is: \", min_num)\n",
    "print(\"Maximum number of your sequence is: \", max_num)"
   ]
  },
  {
   "cell_type": "markdown",
   "metadata": {},
   "source": [
    "### Write a Python function that takes two lists and returns True if they have at least one common member."
   ]
  },
  {
   "cell_type": "code",
   "execution_count": null,
   "metadata": {
    "collapsed": true,
    "jupyter": {
     "outputs_hidden": true
    }
   },
   "outputs": [],
   "source": [
    "lis1 = [1,2,3,4,10,9,11]\n",
    "lis2 = [5,6,7,8,11]\n",
    "\n",
    "\n",
    "def check_common_num(x,y):\n",
    "    for i in x:\n",
    "        for n in y:\n",
    "            if i == n:\n",
    "                return True\n",
    "            \n",
    "\n",
    "def final_check():\n",
    "    if (check_common_num(lis1,lis2) == True):\n",
    "        print('True')\n",
    "    else:\n",
    "        print('Sorry There is no common numbers.')\n",
    "\n",
    "\n",
    "final_check()"
   ]
  },
  {
   "cell_type": "markdown",
   "metadata": {},
   "source": [
    "### Write a Python function to calculate the factorial of a number (a non-negative integer). The function accepts the number from the user"
   ]
  },
  {
   "cell_type": "code",
   "execution_count": null,
   "metadata": {
    "collapsed": true,
    "jupyter": {
     "outputs_hidden": true
    }
   },
   "outputs": [],
   "source": [
    "def calc_factorial(x):\n",
    "    factorial = 1\n",
    "    \n",
    "    if x < 0:\n",
    "        print('Sorry there is no factorial for nrgative numbers.')\n",
    "    elif x == 0:\n",
    "        print('The fctorial of 0 is 1')\n",
    "    else:\n",
    "        for i in range(1, x +1):\n",
    "            factorial = factorial * i\n",
    "            \n",
    "        print(\"The factorial of\", x,\"is\", factorial)\n",
    "        \n",
    "        \n",
    "factorial_num = int(input('Please enter your number to the factorial:'))\n",
    "\n",
    "\n",
    "calc_factorial(factorial_num)"
   ]
  },
  {
   "cell_type": "markdown",
   "metadata": {},
   "source": [
    "### Write a Python function to check whether a number is in a given range.\n",
    "\n",
    "### The range is from 3 to 11\n"
   ]
  },
  {
   "cell_type": "code",
   "execution_count": null,
   "metadata": {
    "collapsed": true,
    "jupyter": {
     "outputs_hidden": true
    }
   },
   "outputs": [],
   "source": [
    "\n",
    "def check_in_range(x, i, n):\n",
    "    if x in range(i, n + 1):\n",
    "        print(\"Your number is in range\")\n",
    "    else:\n",
    "        print(\"Sorry!, your number is out of range\")\n",
    "        \n",
    "\n",
    "first_numb_of_range = int(input('Input the beginning num of a range:'))\n",
    "last_numb_of_range = int(input('Input the last num of a range:'))\n",
    "checked_number = int(input('Input your number to check:'))\n",
    "\n",
    "check_in_range(checked_number, first_numb_of_range, last_numb_of_range)"
   ]
  },
  {
   "cell_type": "markdown",
   "metadata": {},
   "source": [
    "### Write a  program to create the multiplication table (from 1 to 10) of a number."
   ]
  },
  {
   "cell_type": "code",
   "execution_count": null,
   "metadata": {
    "collapsed": true,
    "jupyter": {
     "outputs_hidden": true
    }
   },
   "outputs": [],
   "source": [
    "def multiplication_of_num(x):\n",
    "    for i in range(1, 11):\n",
    "        print(x, 'x', i, '=', x*i)\n",
    "        \n",
    "        \n",
    "num = int(input('Write your number to get the multipliction: '))\n",
    "\n",
    "multiplication_of_num(num)"
   ]
  },
  {
   "cell_type": "markdown",
   "metadata": {},
   "source": [
    "#### LESSER OF TWO EVENS: Write a function that returns the lesser of two given numbers *if* both numbers are even, but returns the greater if one or both numbers are odd\n",
    "    lesser_of_two_evens(2,4) --> 2\n",
    "    lesser_of_two_evens(2,5) --> 5"
   ]
  },
  {
   "cell_type": "code",
   "execution_count": null,
   "metadata": {},
   "outputs": [],
   "source": [
    "def lesser_of_two_evens(x, y):\n",
    "    i = [x,y]\n",
    "\n",
    "    if ((x % 2 == 0) and (y % 2 == 0)):\n",
    "        print(min(i))\n",
    "    else:\n",
    "        print(max(i))\n",
    "\n",
    "\n",
    "first_num = int(input('Input your first num: '))\n",
    "second_num = int(input('Input your second num: '))\n",
    "\n",
    "lesser_of_two_evens(first_num, second_num)"
   ]
  },
  {
   "cell_type": "markdown",
   "metadata": {},
   "source": [
    "#### ANIMAL CRACKERS: Write a function takes a two-word string and returns True if both words begin with same letter\n",
    "    animal_crackers('Levelheaded Llama') --> True\n",
    "    animal_crackers('Crazy Kangaroo') --> False"
   ]
  },
  {
   "cell_type": "code",
   "execution_count": null,
   "metadata": {},
   "outputs": [],
   "source": [
    "def animal_crackers(x):\n",
    "    lis = x.split(\" \")\n",
    "    if (lis[0][0] == lis[1][0]):\n",
    "        print(True)\n",
    "    else:\n",
    "        print(False)\n",
    "    \n",
    "\n",
    "two_words = input('Write your two words: ')\n",
    "\n",
    "animal_crackers(two_words.upper())"
   ]
  },
  {
   "cell_type": "markdown",
   "metadata": {},
   "source": [
    "#### MAKES TWENTY: Given two integers, return True if the sum of the integers is 20 *or* if one of the integers is 20. If not, return False\n",
    "\n",
    "    makes_twenty(20,10) --> True\n",
    "    makes_twenty(12,8) --> True\n",
    "    makes_twenty(2,3) --> False"
   ]
  },
  {
   "cell_type": "code",
   "execution_count": null,
   "metadata": {},
   "outputs": [],
   "source": [
    "\n",
    "def makes_twenty(x, y):\n",
    "    lis = [x, y]\n",
    "    if ((x + y) == 20) or (max(lis) == 20):\n",
    "        print(True)\n",
    "    else:\n",
    "        print(False)\n",
    "        \n",
    "\n",
    "    first_num = int(input('Input your first num: '))\n",
    "    second_num = int(input('Input your second num: '))\n",
    "\n",
    "makes_twenty(first_num, second_num)"
   ]
  },
  {
   "cell_type": "markdown",
   "metadata": {
    "tags": []
   },
   "source": [
    "#### ALMOST THERE: Given an integer n, return True if n is within 10 of either 100 or 200\n",
    "\n",
    "    almost_there(90) --> True\n",
    "    almost_there(104) --> True\n",
    "    almost_there(150) --> False\n",
    "    almost_there(209) --> True\n",
    "    \n",
    "NOTE: `abs(num)` returns the absolute value of a number"
   ]
  },
  {
   "cell_type": "code",
   "execution_count": null,
   "metadata": {},
   "outputs": [],
   "source": []
  },
  {
   "cell_type": "markdown",
   "metadata": {},
   "source": [
    "#### BLACKJACK: Given three integers between 1 and 11, if their sum is less than or equal to 21, return their sum. If their sum exceeds 21 *and* there's an eleven, reduce the total sum by 10. Finally, if the sum  exceeds 21, return 'BUST'\n",
    "    blackjack(5,6,7) --> 18\n",
    "    blackjack(9,9,9) --> 'BUST'\n",
    "    blackjack(9,9,11) --> 19"
   ]
  },
  {
   "cell_type": "code",
   "execution_count": null,
   "metadata": {},
   "outputs": [],
   "source": [
    "\n",
    "def balck_jack(x, y, z):\n",
    "    \n",
    "    total_sum = x + y + z\n",
    "    lis = [x, y, z]\n",
    "    \n",
    "    if (( x and y and z ) not in range(1, 12)):\n",
    "        print('Sorry your numbers is out of range!')\n",
    "    elif (total_sum <= 21):\n",
    "        print('The sum of the three numbers is: ', total_sum)\n",
    "    elif (total_sum > 21) and (11 in lis):\n",
    "        print('The sum of the three numbers is: ', total_sum - 10)\n",
    "    elif (total_sum > 21) and (11 not in lis):\n",
    "        print('BUST')\n",
    "\n",
    "first_num = int(input('Input your first num: '))\n",
    "second_num = int(input('Input your second num: '))\n",
    "Third_num = int(input('Input your Third num: '))\n",
    "\n",
    "balck_jack(first_num, second_num, Third_num)"
   ]
  }
 ],
 "metadata": {
  "kernelspec": {
   "display_name": "Python 3 (ipykernel)",
   "language": "python",
   "name": "python3"
  },
  "language_info": {
   "codemirror_mode": {
    "name": "ipython",
    "version": 3
   },
   "file_extension": ".py",
   "mimetype": "text/x-python",
   "name": "python",
   "nbconvert_exporter": "python",
   "pygments_lexer": "ipython3",
   "version": "3.11.5"
  }
 },
 "nbformat": 4,
 "nbformat_minor": 4
}
